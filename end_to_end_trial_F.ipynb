{
 "cells": [
  {
   "cell_type": "code",
   "execution_count": 2,
   "id": "13f6865b",
   "metadata": {},
   "outputs": [
    {
     "name": "stdout",
     "output_type": "stream",
     "text": [
      "Hello;ya man esmohoo dava\n"
     ]
    }
   ],
   "source": [
    "print(\"Hello;ya man esmohoo dava\")"
   ]
  },
  {
   "cell_type": "code",
   "execution_count": 27,
   "id": "82ac10a1",
   "metadata": {},
   "outputs": [],
   "source": [
    "import pandas as pd"
   ]
  },
  {
   "cell_type": "code",
   "execution_count": 32,
   "id": "77d3fc06",
   "metadata": {},
   "outputs": [],
   "source": [
    "import os\n",
    "notebook_path = os.path.abspath(\"Notebook.ipynb\")"
   ]
  },
  {
   "cell_type": "code",
   "execution_count": 33,
   "id": "cc489436",
   "metadata": {},
   "outputs": [
    {
     "name": "stdout",
     "output_type": "stream",
     "text": [
      "/Users/ali/Notebook.ipynb\n"
     ]
    }
   ],
   "source": [
    "print(notebook_path)"
   ]
  },
  {
   "cell_type": "code",
   "execution_count": 57,
   "id": "f7519410",
   "metadata": {},
   "outputs": [],
   "source": [
    "f = pd.read_csv(\"/Users/ali/Desktop/RTBM283_alternative____all_contig_annotations.csv\")"
   ]
  },
  {
   "cell_type": "code",
   "execution_count": 62,
   "id": "86a8f1cc",
   "metadata": {},
   "outputs": [],
   "source": [
    "g = pd.read_csv(\"/Users/ali/Desktop/Our_Final_codes/Dataset/Sample_100_CPCs__with__100_NPCs.txt\" , sep=\"\\t\")"
   ]
  },
  {
   "cell_type": "code",
   "execution_count": 73,
   "id": "88f71932",
   "metadata": {},
   "outputs": [
    {
     "data": {
      "text/plain": [
       "(33591, 201)"
      ]
     },
     "execution_count": 73,
     "metadata": {},
     "output_type": "execute_result"
    }
   ],
   "source": [
    "g.head()\n",
    "g.shape"
   ]
  },
  {
   "cell_type": "markdown",
   "id": "71b57534",
   "metadata": {},
   "source": [
    "g.columns()"
   ]
  },
  {
   "cell_type": "code",
   "execution_count": 83,
   "id": "ca0f075e",
   "metadata": {},
   "outputs": [
    {
     "data": {
      "text/html": [
       "<div>\n",
       "<style scoped>\n",
       "    .dataframe tbody tr th:only-of-type {\n",
       "        vertical-align: middle;\n",
       "    }\n",
       "\n",
       "    .dataframe tbody tr th {\n",
       "        vertical-align: top;\n",
       "    }\n",
       "\n",
       "    .dataframe thead th {\n",
       "        text-align: right;\n",
       "    }\n",
       "</style>\n",
       "<table border=\"1\" class=\"dataframe\">\n",
       "  <thead>\n",
       "    <tr style=\"text-align: right;\">\n",
       "      <th></th>\n",
       "      <th>genes</th>\n",
       "      <th>TGACTAGTCCAAGTAC</th>\n",
       "      <th>AGGCCACAGGTTACCT</th>\n",
       "      <th>CATCCACCAACTGCGC</th>\n",
       "      <th>TTGCGTCGTCTTCGTC</th>\n",
       "      <th>ATCTGCCTCACGCGGT</th>\n",
       "      <th>AGAATAGGTACGAAAT</th>\n",
       "      <th>GAACCTATCAGAAATG</th>\n",
       "      <th>GTCACAAAGCTGTCTA</th>\n",
       "      <th>GCGCCAACATCCTAGA</th>\n",
       "      <th>...</th>\n",
       "      <th>CGTAGGCGTGTGACGA</th>\n",
       "      <th>AGCAGCCAGCTCCTTC</th>\n",
       "      <th>CGGACTGGTCATGCCG</th>\n",
       "      <th>ACGATGTAGAGTCGGT</th>\n",
       "      <th>GGACAGAGTTCAACCA</th>\n",
       "      <th>GACGTGCAGGGCTTCC</th>\n",
       "      <th>ACGGGTCCAAAGCAAT</th>\n",
       "      <th>CAGATCAAGTTAGCGG</th>\n",
       "      <th>TCTATTGTCTCTAAGG</th>\n",
       "      <th>GATCTAGTCGCCGTGA</th>\n",
       "    </tr>\n",
       "  </thead>\n",
       "  <tbody>\n",
       "    <tr>\n",
       "      <th>0</th>\n",
       "      <td>RP11-34P13.3</td>\n",
       "      <td>0</td>\n",
       "      <td>0</td>\n",
       "      <td>0</td>\n",
       "      <td>0</td>\n",
       "      <td>0</td>\n",
       "      <td>0</td>\n",
       "      <td>0</td>\n",
       "      <td>0</td>\n",
       "      <td>0</td>\n",
       "      <td>...</td>\n",
       "      <td>0</td>\n",
       "      <td>0</td>\n",
       "      <td>0</td>\n",
       "      <td>0</td>\n",
       "      <td>0</td>\n",
       "      <td>0</td>\n",
       "      <td>0</td>\n",
       "      <td>0</td>\n",
       "      <td>0</td>\n",
       "      <td>0</td>\n",
       "    </tr>\n",
       "    <tr>\n",
       "      <th>1</th>\n",
       "      <td>FAM138A</td>\n",
       "      <td>0</td>\n",
       "      <td>0</td>\n",
       "      <td>0</td>\n",
       "      <td>0</td>\n",
       "      <td>0</td>\n",
       "      <td>0</td>\n",
       "      <td>0</td>\n",
       "      <td>0</td>\n",
       "      <td>0</td>\n",
       "      <td>...</td>\n",
       "      <td>0</td>\n",
       "      <td>0</td>\n",
       "      <td>0</td>\n",
       "      <td>0</td>\n",
       "      <td>0</td>\n",
       "      <td>0</td>\n",
       "      <td>0</td>\n",
       "      <td>0</td>\n",
       "      <td>0</td>\n",
       "      <td>0</td>\n",
       "    </tr>\n",
       "    <tr>\n",
       "      <th>2</th>\n",
       "      <td>OR4F5</td>\n",
       "      <td>0</td>\n",
       "      <td>0</td>\n",
       "      <td>0</td>\n",
       "      <td>0</td>\n",
       "      <td>0</td>\n",
       "      <td>0</td>\n",
       "      <td>0</td>\n",
       "      <td>0</td>\n",
       "      <td>0</td>\n",
       "      <td>...</td>\n",
       "      <td>0</td>\n",
       "      <td>0</td>\n",
       "      <td>0</td>\n",
       "      <td>0</td>\n",
       "      <td>0</td>\n",
       "      <td>0</td>\n",
       "      <td>0</td>\n",
       "      <td>0</td>\n",
       "      <td>0</td>\n",
       "      <td>0</td>\n",
       "    </tr>\n",
       "    <tr>\n",
       "      <th>3</th>\n",
       "      <td>RP11-34P13.7</td>\n",
       "      <td>0</td>\n",
       "      <td>0</td>\n",
       "      <td>0</td>\n",
       "      <td>0</td>\n",
       "      <td>0</td>\n",
       "      <td>0</td>\n",
       "      <td>0</td>\n",
       "      <td>0</td>\n",
       "      <td>0</td>\n",
       "      <td>...</td>\n",
       "      <td>0</td>\n",
       "      <td>0</td>\n",
       "      <td>0</td>\n",
       "      <td>0</td>\n",
       "      <td>0</td>\n",
       "      <td>0</td>\n",
       "      <td>0</td>\n",
       "      <td>0</td>\n",
       "      <td>0</td>\n",
       "      <td>0</td>\n",
       "    </tr>\n",
       "    <tr>\n",
       "      <th>4</th>\n",
       "      <td>RP11-34P13.8</td>\n",
       "      <td>0</td>\n",
       "      <td>0</td>\n",
       "      <td>0</td>\n",
       "      <td>0</td>\n",
       "      <td>0</td>\n",
       "      <td>0</td>\n",
       "      <td>0</td>\n",
       "      <td>0</td>\n",
       "      <td>0</td>\n",
       "      <td>...</td>\n",
       "      <td>0</td>\n",
       "      <td>0</td>\n",
       "      <td>0</td>\n",
       "      <td>0</td>\n",
       "      <td>0</td>\n",
       "      <td>0</td>\n",
       "      <td>0</td>\n",
       "      <td>0</td>\n",
       "      <td>0</td>\n",
       "      <td>0</td>\n",
       "    </tr>\n",
       "  </tbody>\n",
       "</table>\n",
       "<p>5 rows × 201 columns</p>\n",
       "</div>"
      ],
      "text/plain": [
       "          genes  TGACTAGTCCAAGTAC  AGGCCACAGGTTACCT  CATCCACCAACTGCGC  \\\n",
       "0  RP11-34P13.3                 0                 0                 0   \n",
       "1       FAM138A                 0                 0                 0   \n",
       "2         OR4F5                 0                 0                 0   \n",
       "3  RP11-34P13.7                 0                 0                 0   \n",
       "4  RP11-34P13.8                 0                 0                 0   \n",
       "\n",
       "   TTGCGTCGTCTTCGTC  ATCTGCCTCACGCGGT  AGAATAGGTACGAAAT  GAACCTATCAGAAATG  \\\n",
       "0                 0                 0                 0                 0   \n",
       "1                 0                 0                 0                 0   \n",
       "2                 0                 0                 0                 0   \n",
       "3                 0                 0                 0                 0   \n",
       "4                 0                 0                 0                 0   \n",
       "\n",
       "   GTCACAAAGCTGTCTA  GCGCCAACATCCTAGA  ...  CGTAGGCGTGTGACGA  \\\n",
       "0                 0                 0  ...                 0   \n",
       "1                 0                 0  ...                 0   \n",
       "2                 0                 0  ...                 0   \n",
       "3                 0                 0  ...                 0   \n",
       "4                 0                 0  ...                 0   \n",
       "\n",
       "   AGCAGCCAGCTCCTTC  CGGACTGGTCATGCCG  ACGATGTAGAGTCGGT  GGACAGAGTTCAACCA  \\\n",
       "0                 0                 0                 0                 0   \n",
       "1                 0                 0                 0                 0   \n",
       "2                 0                 0                 0                 0   \n",
       "3                 0                 0                 0                 0   \n",
       "4                 0                 0                 0                 0   \n",
       "\n",
       "   GACGTGCAGGGCTTCC  ACGGGTCCAAAGCAAT  CAGATCAAGTTAGCGG  TCTATTGTCTCTAAGG  \\\n",
       "0                 0                 0                 0                 0   \n",
       "1                 0                 0                 0                 0   \n",
       "2                 0                 0                 0                 0   \n",
       "3                 0                 0                 0                 0   \n",
       "4                 0                 0                 0                 0   \n",
       "\n",
       "   GATCTAGTCGCCGTGA  \n",
       "0                 0  \n",
       "1                 0  \n",
       "2                 0  \n",
       "3                 0  \n",
       "4                 0  \n",
       "\n",
       "[5 rows x 201 columns]"
      ]
     },
     "execution_count": 83,
     "metadata": {},
     "output_type": "execute_result"
    }
   ],
   "source": [
    "g.head()"
   ]
  },
  {
   "cell_type": "code",
   "execution_count": 79,
   "id": "3d0cdbac",
   "metadata": {},
   "outputs": [
    {
     "ename": "SyntaxError",
     "evalue": "invalid syntax (1289271887.py, line 3)",
     "output_type": "error",
     "traceback": [
      "\u001b[0;36m  Input \u001b[0;32mIn [79]\u001b[0;36m\u001b[0m\n\u001b[0;31m    data = pd.DataFrame(matrix, columns=, index=g.values[:,0])\u001b[0m\n\u001b[0m                                        ^\u001b[0m\n\u001b[0;31mSyntaxError\u001b[0m\u001b[0;31m:\u001b[0m invalid syntax\n"
     ]
    }
   ],
   "source": [
    "matrix = g.values[:,1:]\n",
    "row_names = g.values[:,0]\n",
    "col_names = g.values[-1,:]\n",
    "\n",
    "data = pd.DataFrame(matrix, columns=col_names, index=row_names)\n",
    "#data.index = list(g.values[:,0])\n",
    "data.head()"
   ]
  },
  {
   "cell_type": "code",
   "execution_count": 89,
   "id": "c5f23f6e",
   "metadata": {},
   "outputs": [
    {
     "data": {
      "text/html": [
       "<div>\n",
       "<style scoped>\n",
       "    .dataframe tbody tr th:only-of-type {\n",
       "        vertical-align: middle;\n",
       "    }\n",
       "\n",
       "    .dataframe tbody tr th {\n",
       "        vertical-align: top;\n",
       "    }\n",
       "\n",
       "    .dataframe thead th {\n",
       "        text-align: right;\n",
       "    }\n",
       "</style>\n",
       "<table border=\"1\" class=\"dataframe\">\n",
       "  <thead>\n",
       "    <tr style=\"text-align: right;\">\n",
       "      <th></th>\n",
       "      <th>TGACTAGTCCAAGTAC</th>\n",
       "      <th>AGGCCACAGGTTACCT</th>\n",
       "      <th>CATCCACCAACTGCGC</th>\n",
       "      <th>TTGCGTCGTCTTCGTC</th>\n",
       "      <th>ATCTGCCTCACGCGGT</th>\n",
       "      <th>AGAATAGGTACGAAAT</th>\n",
       "      <th>GAACCTATCAGAAATG</th>\n",
       "      <th>GTCACAAAGCTGTCTA</th>\n",
       "      <th>GCGCCAACATCCTAGA</th>\n",
       "      <th>TTAGTTCTCTAAGCCA</th>\n",
       "      <th>...</th>\n",
       "      <th>CGTAGGCGTGTGACGA</th>\n",
       "      <th>AGCAGCCAGCTCCTTC</th>\n",
       "      <th>CGGACTGGTCATGCCG</th>\n",
       "      <th>ACGATGTAGAGTCGGT</th>\n",
       "      <th>GGACAGAGTTCAACCA</th>\n",
       "      <th>GACGTGCAGGGCTTCC</th>\n",
       "      <th>ACGGGTCCAAAGCAAT</th>\n",
       "      <th>CAGATCAAGTTAGCGG</th>\n",
       "      <th>TCTATTGTCTCTAAGG</th>\n",
       "      <th>GATCTAGTCGCCGTGA</th>\n",
       "    </tr>\n",
       "  </thead>\n",
       "  <tbody>\n",
       "    <tr>\n",
       "      <th>RP11-34P13.3</th>\n",
       "      <td>0</td>\n",
       "      <td>0</td>\n",
       "      <td>0</td>\n",
       "      <td>0</td>\n",
       "      <td>0</td>\n",
       "      <td>0</td>\n",
       "      <td>0</td>\n",
       "      <td>0</td>\n",
       "      <td>0</td>\n",
       "      <td>0</td>\n",
       "      <td>...</td>\n",
       "      <td>0</td>\n",
       "      <td>0</td>\n",
       "      <td>0</td>\n",
       "      <td>0</td>\n",
       "      <td>0</td>\n",
       "      <td>0</td>\n",
       "      <td>0</td>\n",
       "      <td>0</td>\n",
       "      <td>0</td>\n",
       "      <td>0</td>\n",
       "    </tr>\n",
       "    <tr>\n",
       "      <th>FAM138A</th>\n",
       "      <td>0</td>\n",
       "      <td>0</td>\n",
       "      <td>0</td>\n",
       "      <td>0</td>\n",
       "      <td>0</td>\n",
       "      <td>0</td>\n",
       "      <td>0</td>\n",
       "      <td>0</td>\n",
       "      <td>0</td>\n",
       "      <td>0</td>\n",
       "      <td>...</td>\n",
       "      <td>0</td>\n",
       "      <td>0</td>\n",
       "      <td>0</td>\n",
       "      <td>0</td>\n",
       "      <td>0</td>\n",
       "      <td>0</td>\n",
       "      <td>0</td>\n",
       "      <td>0</td>\n",
       "      <td>0</td>\n",
       "      <td>0</td>\n",
       "    </tr>\n",
       "    <tr>\n",
       "      <th>OR4F5</th>\n",
       "      <td>0</td>\n",
       "      <td>0</td>\n",
       "      <td>0</td>\n",
       "      <td>0</td>\n",
       "      <td>0</td>\n",
       "      <td>0</td>\n",
       "      <td>0</td>\n",
       "      <td>0</td>\n",
       "      <td>0</td>\n",
       "      <td>0</td>\n",
       "      <td>...</td>\n",
       "      <td>0</td>\n",
       "      <td>0</td>\n",
       "      <td>0</td>\n",
       "      <td>0</td>\n",
       "      <td>0</td>\n",
       "      <td>0</td>\n",
       "      <td>0</td>\n",
       "      <td>0</td>\n",
       "      <td>0</td>\n",
       "      <td>0</td>\n",
       "    </tr>\n",
       "    <tr>\n",
       "      <th>RP11-34P13.7</th>\n",
       "      <td>0</td>\n",
       "      <td>0</td>\n",
       "      <td>0</td>\n",
       "      <td>0</td>\n",
       "      <td>0</td>\n",
       "      <td>0</td>\n",
       "      <td>0</td>\n",
       "      <td>0</td>\n",
       "      <td>0</td>\n",
       "      <td>0</td>\n",
       "      <td>...</td>\n",
       "      <td>0</td>\n",
       "      <td>0</td>\n",
       "      <td>0</td>\n",
       "      <td>0</td>\n",
       "      <td>0</td>\n",
       "      <td>0</td>\n",
       "      <td>0</td>\n",
       "      <td>0</td>\n",
       "      <td>0</td>\n",
       "      <td>0</td>\n",
       "    </tr>\n",
       "    <tr>\n",
       "      <th>RP11-34P13.8</th>\n",
       "      <td>0</td>\n",
       "      <td>0</td>\n",
       "      <td>0</td>\n",
       "      <td>0</td>\n",
       "      <td>0</td>\n",
       "      <td>0</td>\n",
       "      <td>0</td>\n",
       "      <td>0</td>\n",
       "      <td>0</td>\n",
       "      <td>0</td>\n",
       "      <td>...</td>\n",
       "      <td>0</td>\n",
       "      <td>0</td>\n",
       "      <td>0</td>\n",
       "      <td>0</td>\n",
       "      <td>0</td>\n",
       "      <td>0</td>\n",
       "      <td>0</td>\n",
       "      <td>0</td>\n",
       "      <td>0</td>\n",
       "      <td>0</td>\n",
       "    </tr>\n",
       "  </tbody>\n",
       "</table>\n",
       "<p>5 rows × 200 columns</p>\n",
       "</div>"
      ],
      "text/plain": [
       "             TGACTAGTCCAAGTAC AGGCCACAGGTTACCT CATCCACCAACTGCGC  \\\n",
       "RP11-34P13.3                0                0                0   \n",
       "FAM138A                     0                0                0   \n",
       "OR4F5                       0                0                0   \n",
       "RP11-34P13.7                0                0                0   \n",
       "RP11-34P13.8                0                0                0   \n",
       "\n",
       "             TTGCGTCGTCTTCGTC ATCTGCCTCACGCGGT AGAATAGGTACGAAAT  \\\n",
       "RP11-34P13.3                0                0                0   \n",
       "FAM138A                     0                0                0   \n",
       "OR4F5                       0                0                0   \n",
       "RP11-34P13.7                0                0                0   \n",
       "RP11-34P13.8                0                0                0   \n",
       "\n",
       "             GAACCTATCAGAAATG GTCACAAAGCTGTCTA GCGCCAACATCCTAGA  \\\n",
       "RP11-34P13.3                0                0                0   \n",
       "FAM138A                     0                0                0   \n",
       "OR4F5                       0                0                0   \n",
       "RP11-34P13.7                0                0                0   \n",
       "RP11-34P13.8                0                0                0   \n",
       "\n",
       "             TTAGTTCTCTAAGCCA  ... CGTAGGCGTGTGACGA AGCAGCCAGCTCCTTC  \\\n",
       "RP11-34P13.3                0  ...                0                0   \n",
       "FAM138A                     0  ...                0                0   \n",
       "OR4F5                       0  ...                0                0   \n",
       "RP11-34P13.7                0  ...                0                0   \n",
       "RP11-34P13.8                0  ...                0                0   \n",
       "\n",
       "             CGGACTGGTCATGCCG ACGATGTAGAGTCGGT GGACAGAGTTCAACCA  \\\n",
       "RP11-34P13.3                0                0                0   \n",
       "FAM138A                     0                0                0   \n",
       "OR4F5                       0                0                0   \n",
       "RP11-34P13.7                0                0                0   \n",
       "RP11-34P13.8                0                0                0   \n",
       "\n",
       "             GACGTGCAGGGCTTCC ACGGGTCCAAAGCAAT CAGATCAAGTTAGCGG  \\\n",
       "RP11-34P13.3                0                0                0   \n",
       "FAM138A                     0                0                0   \n",
       "OR4F5                       0                0                0   \n",
       "RP11-34P13.7                0                0                0   \n",
       "RP11-34P13.8                0                0                0   \n",
       "\n",
       "             TCTATTGTCTCTAAGG GATCTAGTCGCCGTGA  \n",
       "RP11-34P13.3                0                0  \n",
       "FAM138A                     0                0  \n",
       "OR4F5                       0                0  \n",
       "RP11-34P13.7                0                0  \n",
       "RP11-34P13.8                0                0  \n",
       "\n",
       "[5 rows x 200 columns]"
      ]
     },
     "execution_count": 89,
     "metadata": {},
     "output_type": "execute_result"
    }
   ],
   "source": [
    "df = pd.DataFrame(g.values[:,1:])\n",
    "\n",
    "# print(df.columns[1:10])\n",
    "df.columns = g.columns[1:]\n",
    "df.index = g.values[:,0]\n",
    "df.head()"
   ]
  },
  {
   "cell_type": "code",
   "execution_count": 90,
   "id": "8165647a",
   "metadata": {},
   "outputs": [],
   "source": [
    "import matplotlib.pyplot as plt"
   ]
  },
  {
   "cell_type": "code",
   "execution_count": 107,
   "id": "53381dce",
   "metadata": {},
   "outputs": [
    {
     "data": {
      "text/plain": [
       "(33591, 200)"
      ]
     },
     "execution_count": 107,
     "metadata": {},
     "output_type": "execute_result"
    }
   ],
   "source": [
    "df.shape"
   ]
  },
  {
   "cell_type": "code",
   "execution_count": 112,
   "id": "df2fa229",
   "metadata": {},
   "outputs": [
    {
     "data": {
      "text/plain": [
       "array([0, 0, 0, ..., 0, 0, 0], dtype=object)"
      ]
     },
     "execution_count": 112,
     "metadata": {},
     "output_type": "execute_result"
    }
   ],
   "source": [
    "df.values[:,0]\n"
   ]
  },
  {
   "cell_type": "code",
   "execution_count": 129,
   "id": "df2f7da7",
   "metadata": {},
   "outputs": [
    {
     "data": {
      "image/png": "[encoded data removed]",
      "text/plain": [
       "<Figure size 432x288 with 1 Axes>"
      ]
     },
     "metadata": {
      "needs_background": "light"
     },
     "output_type": "display_data"
    },
    {
     "data": {
      "image/png": "[encoded data removed]",
      "text/plain": [
       "<Figure size 432x288 with 1 Axes>"
      ]
     },
     "metadata": {
      "needs_background": "light"
     },
     "output_type": "display_data"
    }
   ],
   "source": [
    "for i in range(2):\n",
    "    dg = df.values[:,i]\n",
    "    # dg.hist(bins=50,figsize=(20,15))\n",
    "    # plt.show()\n",
    "    plt.plot(range(len(dg)), dg , color=\"forestgreen\")\n",
    "    plt.ylim(0, 220)\n",
    "    plt.title(\" matplotlib.pyplot.ylim() Example\")\n",
    "    plt.tight_layout()\n",
    "    plt.show()"
   ]
  },
  {
   "cell_type": "code",
   "execution_count": 128,
   "id": "597a1b2b",
   "metadata": {},
   "outputs": [
    {
     "data": {
      "image/png": "[encoded data removed]",
      "text/plain": [
       "<Figure size 432x288 with 1 Axes>"
      ]
     },
     "metadata": {
      "needs_background": "light"
     },
     "output_type": "display_data"
    },
    {
     "data": {
      "image/png": "[encoded data removed]",
      "text/plain": [
       "<Figure size 432x288 with 1 Axes>"
      ]
     },
     "metadata": {
      "needs_background": "light"
     },
     "output_type": "display_data"
    }
   ],
   "source": [
    "for i in range(2):\n",
    "    dg = df.values[:,i]\n",
    "    # dg.hist(bins=50,figsize=(20,15))\n",
    "    # plt.show()\n",
    "    plt.hist(dg, bins=10)\n",
    "    plt.ylim(0, 50)\n",
    "    plt.title(\" matplotlib.pyplot.ylim() Example\")\n",
    "    plt.show()"
   ]
  },
  {
   "cell_type": "code",
   "execution_count": 140,
   "id": "a485214b",
   "metadata": {},
   "outputs": [
    {
     "name": "stdout",
     "output_type": "stream",
     "text": [
      "<class 'pandas.core.frame.DataFrame'>\n",
      "Index: 33591 entries, RP11-34P13.3 to TTTY3\n",
      "Columns: 200 entries, TGACTAGTCCAAGTAC to GATCTAGTCGCCGTGA\n",
      "dtypes: object(200)\n",
      "memory usage: 51.5+ MB\n"
     ]
    },
    {
     "data": {
      "text/html": [
       "<div>\n",
       "<style scoped>\n",
       "    .dataframe tbody tr th:only-of-type {\n",
       "        vertical-align: middle;\n",
       "    }\n",
       "\n",
       "    .dataframe tbody tr th {\n",
       "        vertical-align: top;\n",
       "    }\n",
       "\n",
       "    .dataframe thead th {\n",
       "        text-align: right;\n",
       "    }\n",
       "</style>\n",
       "<table border=\"1\" class=\"dataframe\">\n",
       "  <thead>\n",
       "    <tr style=\"text-align: right;\">\n",
       "      <th></th>\n",
       "      <th>TGACTAGTCCAAGTAC</th>\n",
       "      <th>AGGCCACAGGTTACCT</th>\n",
       "      <th>CATCCACCAACTGCGC</th>\n",
       "      <th>TTGCGTCGTCTTCGTC</th>\n",
       "      <th>ATCTGCCTCACGCGGT</th>\n",
       "      <th>AGAATAGGTACGAAAT</th>\n",
       "      <th>GAACCTATCAGAAATG</th>\n",
       "      <th>GTCACAAAGCTGTCTA</th>\n",
       "      <th>GCGCCAACATCCTAGA</th>\n",
       "      <th>TTAGTTCTCTAAGCCA</th>\n",
       "      <th>...</th>\n",
       "      <th>CGTAGGCGTGTGACGA</th>\n",
       "      <th>AGCAGCCAGCTCCTTC</th>\n",
       "      <th>CGGACTGGTCATGCCG</th>\n",
       "      <th>ACGATGTAGAGTCGGT</th>\n",
       "      <th>GGACAGAGTTCAACCA</th>\n",
       "      <th>GACGTGCAGGGCTTCC</th>\n",
       "      <th>ACGGGTCCAAAGCAAT</th>\n",
       "      <th>CAGATCAAGTTAGCGG</th>\n",
       "      <th>TCTATTGTCTCTAAGG</th>\n",
       "      <th>GATCTAGTCGCCGTGA</th>\n",
       "    </tr>\n",
       "  </thead>\n",
       "  <tbody>\n",
       "    <tr>\n",
       "      <th>count</th>\n",
       "      <td>33591</td>\n",
       "      <td>33591</td>\n",
       "      <td>33591</td>\n",
       "      <td>33591</td>\n",
       "      <td>33591</td>\n",
       "      <td>33591</td>\n",
       "      <td>33591</td>\n",
       "      <td>33591</td>\n",
       "      <td>33591</td>\n",
       "      <td>33591</td>\n",
       "      <td>...</td>\n",
       "      <td>33591</td>\n",
       "      <td>33591</td>\n",
       "      <td>33591</td>\n",
       "      <td>33591</td>\n",
       "      <td>33591</td>\n",
       "      <td>33591</td>\n",
       "      <td>33591</td>\n",
       "      <td>33591</td>\n",
       "      <td>33591</td>\n",
       "      <td>33591</td>\n",
       "    </tr>\n",
       "    <tr>\n",
       "      <th>unique</th>\n",
       "      <td>68</td>\n",
       "      <td>63</td>\n",
       "      <td>24</td>\n",
       "      <td>80</td>\n",
       "      <td>56</td>\n",
       "      <td>43</td>\n",
       "      <td>96</td>\n",
       "      <td>43</td>\n",
       "      <td>86</td>\n",
       "      <td>54</td>\n",
       "      <td>...</td>\n",
       "      <td>50</td>\n",
       "      <td>53</td>\n",
       "      <td>53</td>\n",
       "      <td>42</td>\n",
       "      <td>53</td>\n",
       "      <td>41</td>\n",
       "      <td>40</td>\n",
       "      <td>69</td>\n",
       "      <td>41</td>\n",
       "      <td>64</td>\n",
       "    </tr>\n",
       "    <tr>\n",
       "      <th>top</th>\n",
       "      <td>0</td>\n",
       "      <td>0</td>\n",
       "      <td>0</td>\n",
       "      <td>0</td>\n",
       "      <td>0</td>\n",
       "      <td>0</td>\n",
       "      <td>0</td>\n",
       "      <td>0</td>\n",
       "      <td>0</td>\n",
       "      <td>0</td>\n",
       "      <td>...</td>\n",
       "      <td>0</td>\n",
       "      <td>0</td>\n",
       "      <td>0</td>\n",
       "      <td>0</td>\n",
       "      <td>0</td>\n",
       "      <td>0</td>\n",
       "      <td>0</td>\n",
       "      <td>0</td>\n",
       "      <td>0</td>\n",
       "      <td>0</td>\n",
       "    </tr>\n",
       "    <tr>\n",
       "      <th>freq</th>\n",
       "      <td>31258</td>\n",
       "      <td>31523</td>\n",
       "      <td>32071</td>\n",
       "      <td>30989</td>\n",
       "      <td>31688</td>\n",
       "      <td>31751</td>\n",
       "      <td>30600</td>\n",
       "      <td>31806</td>\n",
       "      <td>31151</td>\n",
       "      <td>31373</td>\n",
       "      <td>...</td>\n",
       "      <td>31906</td>\n",
       "      <td>32122</td>\n",
       "      <td>31801</td>\n",
       "      <td>32415</td>\n",
       "      <td>32430</td>\n",
       "      <td>32342</td>\n",
       "      <td>32433</td>\n",
       "      <td>31776</td>\n",
       "      <td>32141</td>\n",
       "      <td>31584</td>\n",
       "    </tr>\n",
       "  </tbody>\n",
       "</table>\n",
       "<p>4 rows × 200 columns</p>\n",
       "</div>"
      ],
      "text/plain": [
       "        TGACTAGTCCAAGTAC  AGGCCACAGGTTACCT  CATCCACCAACTGCGC  \\\n",
       "count              33591             33591             33591   \n",
       "unique                68                63                24   \n",
       "top                    0                 0                 0   \n",
       "freq               31258             31523             32071   \n",
       "\n",
       "        TTGCGTCGTCTTCGTC  ATCTGCCTCACGCGGT  AGAATAGGTACGAAAT  \\\n",
       "count              33591             33591             33591   \n",
       "unique                80                56                43   \n",
       "top                    0                 0                 0   \n",
       "freq               30989             31688             31751   \n",
       "\n",
       "        GAACCTATCAGAAATG  GTCACAAAGCTGTCTA  GCGCCAACATCCTAGA  \\\n",
       "count              33591             33591             33591   \n",
       "unique                96                43                86   \n",
       "top                    0                 0                 0   \n",
       "freq               30600             31806             31151   \n",
       "\n",
       "        TTAGTTCTCTAAGCCA  ...  CGTAGGCGTGTGACGA  AGCAGCCAGCTCCTTC  \\\n",
       "count              33591  ...             33591             33591   \n",
       "unique                54  ...                50                53   \n",
       "top                    0  ...                 0                 0   \n",
       "freq               31373  ...             31906             32122   \n",
       "\n",
       "        CGGACTGGTCATGCCG  ACGATGTAGAGTCGGT  GGACAGAGTTCAACCA  \\\n",
       "count              33591             33591             33591   \n",
       "unique                53                42                53   \n",
       "top                    0                 0                 0   \n",
       "freq               31801             32415             32430   \n",
       "\n",
       "        GACGTGCAGGGCTTCC  ACGGGTCCAAAGCAAT  CAGATCAAGTTAGCGG  \\\n",
       "count              33591             33591             33591   \n",
       "unique                41                40                69   \n",
       "top                    0                 0                 0   \n",
       "freq               32342             32433             31776   \n",
       "\n",
       "        TCTATTGTCTCTAAGG  GATCTAGTCGCCGTGA  \n",
       "count              33591             33591  \n",
       "unique                41                64  \n",
       "top                    0                 0  \n",
       "freq               32141             31584  \n",
       "\n",
       "[4 rows x 200 columns]"
      ]
     },
     "execution_count": 140,
     "metadata": {},
     "output_type": "execute_result"
    }
   ],
   "source": [
    "df.value_counts()\n",
    "df.info()\n",
    "df.describe()"
   ]
  },
  {
   "cell_type": "code",
   "execution_count": 150,
   "id": "da43f459",
   "metadata": {},
   "outputs": [],
   "source": [
    "import numpy as np\n",
    "\n",
    "def split_train_test(data, test_ratio):\n",
    "    shuffle_idx = np.random.permutation(len(data))\n",
    "    test_set_size = int(len(data) * test_ratio)\n",
    "    test_idx = shuffle_idx[ :test_set_size]\n",
    "    train_idx = shuffle_idx[test_set_size: ]\n",
    "    return data.iloc[test_idx], data.iloc[train_idx]\n",
    "    \n",
    "    "
   ]
  },
  {
   "cell_type": "code",
   "execution_count": 157,
   "id": "bf414a60",
   "metadata": {},
   "outputs": [
    {
     "name": "stdout",
     "output_type": "stream",
     "text": [
      "160\n",
      "40\n",
      "(40, 33591)\n"
     ]
    }
   ],
   "source": [
    "test_set, train_set = split_train_test(df.T, 0.2)\n",
    "print(len(train_set))\n",
    "print(len(test_set))\n",
    "print(test_set.shape)"
   ]
  },
  {
   "cell_type": "code",
   "execution_count": 160,
   "id": "9ea534a7",
   "metadata": {},
   "outputs": [
    {
     "name": "stdout",
     "output_type": "stream",
     "text": [
      "160\n",
      "40\n"
     ]
    }
   ],
   "source": [
    "from sklearn.model_selection import train_test_split\n",
    "train_set, test_set = train_test_split(df.T, test_size=0.2, random_state=42)\n",
    "print(len(train_set))\n",
    "print(len(test_set))"
   ]
  },
  {
   "cell_type": "code",
   "execution_count": null,
   "id": "1480a6cc",
   "metadata": {},
   "outputs": [],
   "source": []
  }
 ],
 "metadata": {
  "kernelspec": {
   "display_name": "Python 3 (ipykernel)",
   "language": "python",
   "name": "python3"
  },
  "language_info": {
   "codemirror_mode": {
    "name": "ipython",
    "version": 3
   },
   "file_extension": ".py",
   "mimetype": "text/x-python",
   "name": "python",
   "nbconvert_exporter": "python",
   "pygments_lexer": "ipython3",
   "version": "3.8.2"
  }
 },
 "nbformat": 4,
 "nbformat_minor": 5
}
